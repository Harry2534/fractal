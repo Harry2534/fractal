{
 "cells": [
  {
   "cell_type": "markdown",
   "id": "dbbf4364",
   "metadata": {},
   "source": [
    "Sierpiński Carpet in PyTorch"
   ]
  },
  {
   "cell_type": "code",
   "execution_count": 5,
   "id": "1153f40d",
   "metadata": {},
   "outputs": [
    {
     "data": {
      "image/png": "[encoded data removed]",
      "text/plain": [
       "<Figure size 640x480 with 1 Axes>"
      ]
     },
     "metadata": {},
     "output_type": "display_data"
    }
   ],
   "source": [
    "# sierpinski_carpet.py\n",
    "import torch\n",
    "import matplotlib.pyplot as plt\n",
    "\n",
    "def sierpinski_carpet(n):\n",
    "    \"\"\"Generate Sierpinski Carpet of size 3^n x 3^n using PyTorch\"\"\"\n",
    "    size = 3 ** n\n",
    "    carpet = torch.ones(size, size, dtype=torch.float32)\n",
    "    \n",
    "    def carve(x, y, size):\n",
    "        if size == 1:\n",
    "            return\n",
    "        step = size // 3\n",
    "        carpet[x+step:x+2*step, y+step:y+2*step] = 0  # remove center\n",
    "        for i in range(3):\n",
    "            for j in range(3):\n",
    "                if i != 1 or j != 1:\n",
    "                    carve(x + i*step, y + j*step, step)\n",
    "    \n",
    "    carve(0, 0, size)\n",
    "    return carpet\n",
    "\n",
    "if __name__ == \"__main__\":\n",
    "    n = 4  # depth of recursion\n",
    "    carpet = sierpinski_carpet(n)\n",
    "    \n",
    "    plt.imshow(carpet, cmap='inferno')\n",
    "    plt.title(f\"Sierpiński Carpet (n={n})\")\n",
    "    plt.axis('off')\n",
    "    plt.show()\n"
   ]
  }
 ],
 "metadata": {
  "kernelspec": {
   "display_name": ".venv",
   "language": "python",
   "name": "python3"
  },
  "language_info": {
   "codemirror_mode": {
    "name": "ipython",
    "version": 3
   },
   "file_extension": ".py",
   "mimetype": "text/x-python",
   "name": "python",
   "nbconvert_exporter": "python",
   "pygments_lexer": "ipython3",
   "version": "3.13.3"
  }
 },
 "nbformat": 4,
 "nbformat_minor": 5
}
